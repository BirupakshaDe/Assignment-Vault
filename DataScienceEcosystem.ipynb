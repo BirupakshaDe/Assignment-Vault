{
 "cells": [
  {
   "cell_type": "markdown",
   "id": "34fe6335-cf78-44b8-99bc-286773f4060f",
   "metadata": {
    "panel-layout": {
     "height": 60.5729,
     "visible": true,
     "width": 100
    }
   },
   "source": [
    "# Data Science Tools and Ecosystem"
   ]
  },
  {
   "cell_type": "markdown",
   "id": "39646a68-2e63-4613-bc8a-b4ffb3403b62",
   "metadata": {
    "panel-layout": {
     "height": 51.1328,
     "visible": true,
     "width": 100
    }
   },
   "source": [
    "In this notebook, Data Science Tools and Ecosystem are summarized."
   ]
  },
  {
   "cell_type": "markdown",
   "id": "c6ac5b46-6908-463c-b72a-78fb270588c2",
   "metadata": {
    "panel-layout": {
     "height": 131.719,
     "visible": true,
     "width": 100
    }
   },
   "source": [
    "**Objectives :**\n",
    "  * List of some of the popular languages used in Data Science\n",
    "  * List of some of the commonly used libraries in Data Science\n",
    "  * List of some Data Science Tools\n",
    "  * Examples of evaluating arithmetic expressions in Python"
   ]
  },
  {
   "cell_type": "markdown",
   "id": "5997e84a-1b76-43cb-927c-5b5f55407ba5",
   "metadata": {
    "panel-layout": {
     "height": 148.867,
     "visible": true,
     "width": 100
    }
   },
   "source": [
    "Some of the popular languages that Data Scientists use are :\n",
    "  1) Python\n",
    "  2) R\n",
    "  3) SQL\n",
    "  4) Java\n",
    "  5) JavaScript"
   ]
  },
  {
   "cell_type": "markdown",
   "id": "5c34eeef-2d94-4c0f-af34-6f79e713ff42",
   "metadata": {
    "panel-layout": {
     "height": 148.867,
     "visible": true,
     "width": 100
    }
   },
   "source": [
    "Some of the commonly used libraries used by Data Scientists include :\n",
    "  1) NumPy\n",
    "  2) pandas\n",
    "  3) SciPy\n",
    "  4) Matplotlib\n",
    "  5) Plotly"
   ]
  },
  {
   "cell_type": "markdown",
   "id": "8fdaa47e-2d67-44ba-b776-50d438aa9813",
   "metadata": {
    "panel-layout": {
     "height": 122.76,
     "visible": true,
     "width": 100
    }
   },
   "source": [
    "|**Data Science Tools**|\n",
    "|----------------------|\n",
    "|Jupyter Notebooks|\n",
    "|Zeppelin Notebooks|\n",
    "|RStudio|"
   ]
  },
  {
   "cell_type": "markdown",
   "id": "f7fe8743-15ed-4d63-bb76-9d1efab23407",
   "metadata": {
    "panel-layout": {
     "height": 44.0885,
     "visible": true,
     "width": 100
    }
   },
   "source": [
    "### Below are a few examples of evaluating arithmetic expressions in Python"
   ]
  },
  {
   "cell_type": "markdown",
   "id": "8113d237-a097-4620-9881-559826b0746e",
   "metadata": {
    "panel-layout": {
     "height": 51.1328,
     "visible": true,
     "width": 100
    }
   },
   "source": [
    "This a simple arithmetic expression to mutiply then add integers"
   ]
  },
  {
   "cell_type": "code",
   "execution_count": 2,
   "id": "4b45faa7-7361-4284-b214-1a8549d724db",
   "metadata": {
    "panel-layout": {
     "height": 0,
     "visible": true,
     "width": 100
    }
   },
   "outputs": [
    {
     "name": "stdout",
     "output_type": "stream",
     "text": [
      "17\n"
     ]
    }
   ],
   "source": [
    "print((3*4)+5)"
   ]
  },
  {
   "cell_type": "markdown",
   "id": "5b03ef71-34e2-4660-9b2a-1041351d80ed",
   "metadata": {
    "panel-layout": {
     "height": 51.1328,
     "visible": true,
     "width": 100
    }
   },
   "source": [
    "This will convert 200 minutes to hours by diving by 60"
   ]
  },
  {
   "cell_type": "code",
   "execution_count": 3,
   "id": "156375cc-d08d-4f35-8760-e15977530f21",
   "metadata": {
    "panel-layout": {
     "height": 0,
     "visible": true,
     "width": 100
    }
   },
   "outputs": [
    {
     "name": "stdout",
     "output_type": "stream",
     "text": [
      "3  hours and 20  minutes\n"
     ]
    }
   ],
   "source": [
    "print((200//60),\" hours and\",(200%60),\" minutes\")"
   ]
  },
  {
   "cell_type": "markdown",
   "id": "df3cf9c9-2cf7-42af-8455-851a0bc62572",
   "metadata": {
    "panel-layout": {
     "height": 23.6458,
     "visible": true,
     "width": 100
    }
   },
   "source": [
    "---------------------------------------------------------------------------------------------------------------------------------------------------"
   ]
  },
  {
   "cell_type": "markdown",
   "id": "ee81c664-c982-4760-8390-b829b4edb107",
   "metadata": {
    "panel-layout": {
     "height": 50.8073,
     "visible": true,
     "width": 100
    }
   },
   "source": [
    "## Author :"
   ]
  },
  {
   "cell_type": "markdown",
   "id": "c9e8bdf2-c18d-40c1-b1a6-0a768f8c001d",
   "metadata": {
    "panel-layout": {
     "height": 51.1328,
     "visible": true,
     "width": 100
    }
   },
   "source": [
    "**Name** - BIRUPAKSHA DE"
   ]
  }
 ],
 "metadata": {
  "kernelspec": {
   "display_name": "Python 3 (ipykernel)",
   "language": "python",
   "name": "python3"
  },
  "language_info": {
   "codemirror_mode": {
    "name": "ipython",
    "version": 3
   },
   "file_extension": ".py",
   "mimetype": "text/x-python",
   "name": "python",
   "nbconvert_exporter": "python",
   "pygments_lexer": "ipython3",
   "version": "3.12.7"
  },
  "panel-cell-order": [
   "34fe6335-cf78-44b8-99bc-286773f4060f",
   "39646a68-2e63-4613-bc8a-b4ffb3403b62",
   "c6ac5b46-6908-463c-b72a-78fb270588c2",
   "5997e84a-1b76-43cb-927c-5b5f55407ba5",
   "5c34eeef-2d94-4c0f-af34-6f79e713ff42",
   "8fdaa47e-2d67-44ba-b776-50d438aa9813",
   "f7fe8743-15ed-4d63-bb76-9d1efab23407",
   "8113d237-a097-4620-9881-559826b0746e",
   "4b45faa7-7361-4284-b214-1a8549d724db",
   "5b03ef71-34e2-4660-9b2a-1041351d80ed",
   "156375cc-d08d-4f35-8760-e15977530f21",
   "df3cf9c9-2cf7-42af-8455-851a0bc62572",
   "ee81c664-c982-4760-8390-b829b4edb107",
   "c9e8bdf2-c18d-40c1-b1a6-0a768f8c001d"
  ]
 },
 "nbformat": 4,
 "nbformat_minor": 5
}
